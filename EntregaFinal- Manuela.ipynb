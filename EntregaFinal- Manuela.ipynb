{
 "cells": [
  {
   "cell_type": "markdown",
   "metadata": {},
   "source": [
    "# MANUELA CASTILLA RUSSO CORREA\n",
    "Para o meu projeto, foi escolhido os fatores:\n",
    "\n",
    "(1)Mulheres empregadas entre a idade de 15-24. \n",
    "\n",
    "(2)A relação de meninas para homens na educação (fundamental 1 e 2) para relacionar com o Índice de Desenvolvimento Human\n",
    "\n",
    "\n",
    "Com isso, foi feito a seguinte questão: \n",
    "\n",
    "#### A quantidade de mulheres que tiveram educação influência no número destas que têm emprego, influenciando assim o IDH do país?\n"
   ]
  },
  {
   "cell_type": "markdown",
   "metadata": {},
   "source": [
    "Para isso, mostrarei os passos para cada código feito e suas análises"
   ]
  },
  {
   "cell_type": "markdown",
   "metadata": {},
   "source": [
    "## PASSO 1: JUNTANDO AS TABELAS E O ANO A SER ESTUDADO: 2007"
   ]
  },
  {
   "cell_type": "code",
   "execution_count": 2,
   "metadata": {},
   "outputs": [],
   "source": [
    "#Primeiramente importamos para poder realizar o código\n",
    "%matplotlib inline\n",
    "import pandas as pd\n",
    "import numpy as np\n",
    "import math as math\n",
    "from scipy import stats\n",
    "import seaborn as sns\n",
    "import matplotlib.pyplot as plt"
   ]
  },
  {
   "cell_type": "code",
   "execution_count": 3,
   "metadata": {},
   "outputs": [],
   "source": [
    "#baixando todos os excels\n",
    "idh = pd.read_excel('hdi_human_development_index.xlsx')\n",
    "gender_edu = pd.read_excel(\"ratio_of_girls_to_boys_in_primary_and_secondary_education_perc.xlsx\")\n",
    "employment = pd.read_excel(\"females_aged_15_24_employment_rate_percent.xlsx\")"
   ]
  },
  {
   "cell_type": "markdown",
   "metadata": {},
   "source": [
    "###### 1. Ao baixar os documentos, selecionei o ano que queria analisar, o ano de 2007:"
   ]
  },
  {
   "cell_type": "code",
   "execution_count": 4,
   "metadata": {},
   "outputs": [],
   "source": [
    "#pegando as partes que você quer\n",
    "idh_07 = idh.loc[:,[\"geo\",2007]]\n",
    "gender_edu_07 = gender_edu.loc[:,[\"geo\",2007]]\n",
    "employment_07 = employment.loc[:,[\"geo\",2007]]"
   ]
  },
  {
   "cell_type": "markdown",
   "metadata": {},
   "source": [
    "###### 2. Para analisar mais facilmente os dados, juntei os dados em só um dataframe Para isso, ajustei os index em comum de cada tabela para que os países se \"colidissem\"."
   ]
  },
  {
   "cell_type": "code",
   "execution_count": 5,
   "metadata": {},
   "outputs": [],
   "source": [
    "#ajustando o index\n",
    "idh_idx = idh_07.set_index(\"geo\")\n",
    "gender_edu_idx = gender_edu_07.set_index(\"geo\")\n",
    "employment_idx = employment_07.set_index(\"geo\")"
   ]
  },
  {
   "cell_type": "code",
   "execution_count": 6,
   "metadata": {},
   "outputs": [],
   "source": [
    "idh_idx = idh_idx.rename(index = str, columns = lambda column: \"IDH in 2007\")\n",
    "gender_edu_idx = gender_edu_idx.rename(index = str, columns = lambda column: \"Gender_edu in 2007\" )\n",
    "employment_idx = index = employment_idx.rename(str, columns = lambda column: \"gender_employ in 2007\")"
   ]
  },
  {
   "cell_type": "markdown",
   "metadata": {},
   "source": [
    "###### 3. Assim, iniciei o processo de join (juntar os dados):"
   ]
  },
  {
   "cell_type": "code",
   "execution_count": 7,
   "metadata": {},
   "outputs": [],
   "source": [
    "#join 1.0\n",
    "idh_gender = idh_idx.join(gender_edu_idx, how=\"inner\", lsuffix=\"_idh\", rsuffix=\"_gender\")"
   ]
  },
  {
   "cell_type": "code",
   "execution_count": 8,
   "metadata": {},
   "outputs": [],
   "source": [
    "#join 2.0\n",
    "data = idh_gender.join(employment_idx, how=\"inner\", lsuffix=\"_idh\", rsuffix=\"_WomanEmployment\")"
   ]
  },
  {
   "cell_type": "code",
   "execution_count": 9,
   "metadata": {},
   "outputs": [
    {
     "data": {
      "text/html": [
       "<div>\n",
       "<style scoped>\n",
       "    .dataframe tbody tr th:only-of-type {\n",
       "        vertical-align: middle;\n",
       "    }\n",
       "\n",
       "    .dataframe tbody tr th {\n",
       "        vertical-align: top;\n",
       "    }\n",
       "\n",
       "    .dataframe thead th {\n",
       "        text-align: right;\n",
       "    }\n",
       "</style>\n",
       "<table border=\"1\" class=\"dataframe\">\n",
       "  <thead>\n",
       "    <tr style=\"text-align: right;\">\n",
       "      <th></th>\n",
       "      <th>IDH in 2007</th>\n",
       "      <th>Gender_edu in 2007</th>\n",
       "      <th>gender_employ in 2007</th>\n",
       "    </tr>\n",
       "    <tr>\n",
       "      <th>geo</th>\n",
       "      <th></th>\n",
       "      <th></th>\n",
       "      <th></th>\n",
       "    </tr>\n",
       "  </thead>\n",
       "  <tbody>\n",
       "    <tr>\n",
       "      <th>Afghanistan</th>\n",
       "      <td>0.433</td>\n",
       "      <td>0.570</td>\n",
       "      <td>28.5</td>\n",
       "    </tr>\n",
       "    <tr>\n",
       "      <th>Albania</th>\n",
       "      <td>0.713</td>\n",
       "      <td>0.982</td>\n",
       "      <td>31.0</td>\n",
       "    </tr>\n",
       "  </tbody>\n",
       "</table>\n",
       "</div>"
      ],
      "text/plain": [
       "             IDH in 2007  Gender_edu in 2007  gender_employ in 2007\n",
       "geo                                                                \n",
       "Afghanistan        0.433               0.570                   28.5\n",
       "Albania            0.713               0.982                   31.0"
      ]
     },
     "execution_count": 9,
     "metadata": {},
     "output_type": "execute_result"
    }
   ],
   "source": [
    "data.head(2)"
   ]
  },
  {
   "cell_type": "markdown",
   "metadata": {},
   "source": [
    "###### 4. Por fim, eu salvei essa nova tabela em um dataframe"
   ]
  },
  {
   "cell_type": "code",
   "execution_count": 10,
   "metadata": {},
   "outputs": [],
   "source": [
    "data.to_csv(\"APS1: junção do employment, gender, idh de 2007.csv\")\n",
    "data.to_excel(\"APS1: junção do employment, gender, idh de 2007.xlsx\")"
   ]
  },
  {
   "cell_type": "markdown",
   "metadata": {},
   "source": [
    "## PASSO 2: Criando os gráficos e Análise"
   ]
  },
  {
   "cell_type": "markdown",
   "metadata": {},
   "source": [
    "###### 1. Primeiramente fizemos o comando de correlação, para ver quanto cada fator se relaciona:"
   ]
  },
  {
   "cell_type": "code",
   "execution_count": 11,
   "metadata": {},
   "outputs": [
    {
     "data": {
      "text/html": [
       "<div>\n",
       "<style scoped>\n",
       "    .dataframe tbody tr th:only-of-type {\n",
       "        vertical-align: middle;\n",
       "    }\n",
       "\n",
       "    .dataframe tbody tr th {\n",
       "        vertical-align: top;\n",
       "    }\n",
       "\n",
       "    .dataframe thead th {\n",
       "        text-align: right;\n",
       "    }\n",
       "</style>\n",
       "<table border=\"1\" class=\"dataframe\">\n",
       "  <thead>\n",
       "    <tr style=\"text-align: right;\">\n",
       "      <th></th>\n",
       "      <th>IDH in 2007</th>\n",
       "      <th>Gender_edu in 2007</th>\n",
       "      <th>gender_employ in 2007</th>\n",
       "    </tr>\n",
       "  </thead>\n",
       "  <tbody>\n",
       "    <tr>\n",
       "      <th>IDH in 2007</th>\n",
       "      <td>1.000000</td>\n",
       "      <td>0.638911</td>\n",
       "      <td>-0.280788</td>\n",
       "    </tr>\n",
       "    <tr>\n",
       "      <th>Gender_edu in 2007</th>\n",
       "      <td>0.638911</td>\n",
       "      <td>1.000000</td>\n",
       "      <td>-0.186184</td>\n",
       "    </tr>\n",
       "    <tr>\n",
       "      <th>gender_employ in 2007</th>\n",
       "      <td>-0.280788</td>\n",
       "      <td>-0.186184</td>\n",
       "      <td>1.000000</td>\n",
       "    </tr>\n",
       "  </tbody>\n",
       "</table>\n",
       "</div>"
      ],
      "text/plain": [
       "                       IDH in 2007  Gender_edu in 2007  gender_employ in 2007\n",
       "IDH in 2007               1.000000            0.638911              -0.280788\n",
       "Gender_edu in 2007        0.638911            1.000000              -0.186184\n",
       "gender_employ in 2007    -0.280788           -0.186184               1.000000"
      ]
     },
     "execution_count": 11,
     "metadata": {},
     "output_type": "execute_result"
    }
   ],
   "source": [
    "data.corr()"
   ]
  },
  {
   "cell_type": "markdown",
   "metadata": {},
   "source": [
    "#### A partir desta tabela, foi possível já ter uma ideia quanto cada fator influencia o outro. \n",
    "Lembrando que, se a correlação resulta 1 ou - 1, quer dizer que existe uma relação forte entre os fatores. Assim, quanto mais perto a 0, menos relacionados entre si são."
   ]
  },
  {
   "cell_type": "markdown",
   "metadata": {},
   "source": [
    "###### 2. Colocamos essa correlação, diante de um gráfico com a sua reta de tendência"
   ]
  },
  {
   "cell_type": "markdown",
   "metadata": {},
   "source": [
    "Para isso, foi usado o seguinte código"
   ]
  },
  {
   "cell_type": "code",
   "execution_count": 18,
   "metadata": {},
   "outputs": [],
   "source": [
    "def reta(data_x, data_y):    \n",
    "    a = data_y.cov(data_x) / data_x.var()\n",
    "    b = data_y.mean() - a*data_x.mean()\n",
    "\n",
    "    print('Ajuste linear entre X3 e X4:')\n",
    "    print('Coeficiente linear:', b)\n",
    "    print('Coeficiente angular:', a)\n",
    "\n",
    "    fig = plt.figure(figsize=(8, 6))\n",
    "    plt.scatter(data_x, data_y, c='red', alpha=0.8)\n",
    "    plt.title('x versus y')\n",
    "    plt.xlabel('IDH em 2007')\n",
    "    plt.ylabel('employment 2007')\n",
    "\n",
    "    plt.plot((data_x.min(), data_x.max()), (a*data_x.min()+b, a*data_x.max()+b), color='blue')\n",
    "\n",
    "    plt.tight_layout()\n"
   ]
  },
  {
   "cell_type": "markdown",
   "metadata": {},
   "source": [
    "### IDH em 2007 x mulheres empregadas no total em 2007"
   ]
  },
  {
   "cell_type": "code",
   "execution_count": 28,
   "metadata": {},
   "outputs": [
    {
     "name": "stdout",
     "output_type": "stream",
     "text": [
      "Ajuste linear entre X3 e X4:\n",
      "Coeficiente linear: 53.90476855718466\n",
      "Coeficiente angular: -27.762687739588912\n"
     ]
    },
    {
     "data": {
      "image/png": "[encoded data removed]",
      "text/plain": [
       "<Figure size 576x432 with 1 Axes>"
      ]
     },
     "metadata": {},
     "output_type": "display_data"
    }
   ],
   "source": [
    "reta( data[\"IDH in 2007\"],data[\"gender_employ in 2007\"] )\n",
    "plt.title('análise de dados em 2007')\n",
    "plt.xlabel('IDH')\n",
    "plt.ylabel('Mulheres empregadas entre a idade de 15-24')\n",
    "plt.show()"
   ]
  },
  {
   "cell_type": "markdown",
   "metadata": {},
   "source": [
    "Nesse gráfico, relacionando o IDH com o número de mulheres empregadas, podemos ver que existe uma relação mínima (-0.195)."
   ]
  },
  {
   "cell_type": "markdown",
   "metadata": {},
   "source": [
    "### IDH em 2007 x quantidade que mulheres tiveram educação"
   ]
  },
  {
   "cell_type": "code",
   "execution_count": 29,
   "metadata": {},
   "outputs": [
    {
     "name": "stdout",
     "output_type": "stream",
     "text": [
      "Ajuste linear entre X3 e X4:\n",
      "Coeficiente linear: 0.7530423721997657\n",
      "Coeficiente angular: 0.32528255129050754\n"
     ]
    },
    {
     "data": {
      "image/png": "[encoded data removed]",
      "text/plain": [
       "<Figure size 576x432 with 1 Axes>"
      ]
     },
     "metadata": {},
     "output_type": "display_data"
    }
   ],
   "source": [
    "reta( data[\"IDH in 2007\"],data[\"Gender_edu in 2007\"] )\n",
    "plt.title('análise de dados em 2007')\n",
    "plt.xlabel('IDH em 2007')\n",
    "plt.ylabel('Proporção de mulheres à homens com educação 2007')\n",
    "plt.show()"
   ]
  },
  {
   "cell_type": "markdown",
   "metadata": {},
   "source": [
    "Ao contrário do primeiro gráfico, existe uma relação clara entre o IDH dos países com a quantidade de mulheres que tiveram uma educação. Assim a correlação entre este dois fatores é aproximadamente 0.64."
   ]
  },
  {
   "cell_type": "markdown",
   "metadata": {},
   "source": [
    "### Proporção de mulheres à homens com educação x mulheres empregadas no total em 2007"
   ]
  },
  {
   "cell_type": "code",
   "execution_count": 30,
   "metadata": {},
   "outputs": [
    {
     "name": "stdout",
     "output_type": "stream",
     "text": [
      "Ajuste linear entre X3 e X4:\n",
      "Coeficiente linear: 1.0035826825159493\n",
      "Coeficiente angular: -0.0009827366873368549\n"
     ]
    },
    {
     "data": {
      "image/png": "[encoded data removed]",
      "text/plain": [
       "<Figure size 576x432 with 1 Axes>"
      ]
     },
     "metadata": {},
     "output_type": "display_data"
    }
   ],
   "source": [
    "reta( data[\"gender_employ in 2007\"],data[\"Gender_edu in 2007\"] )\n",
    "plt.title('análise de dados em 2007')\n",
    "plt.xlabel('Mulheres empregadas entre a idade de 15-24')\n",
    "plt.ylabel('Proporção de mulheres à homens com educação')\n",
    "plt.show()"
   ]
  },
  {
   "cell_type": "markdown",
   "metadata": {},
   "source": [
    "Por fim, podemos observar diante do gráfico acima de que não importa a quantidade de mulher empregada, não existe uma relação clara, e pode até se dizer que não existe uma relação, ou seja, os dois fatores não são proporcionais entre si."
   ]
  },
  {
   "cell_type": "markdown",
   "metadata": {},
   "source": [
    "### CONCLUSÃO\n",
    "\n",
    "idh com mulheres empregadas:  Assim, pode se concluir de que não existe uma relação significativa."
   ]
  },
  {
   "cell_type": "code",
   "execution_count": null,
   "metadata": {},
   "outputs": [],
   "source": []
  }
 ],
 "metadata": {
  "kernelspec": {
   "display_name": "Python 3",
   "language": "python",
   "name": "python3"
  },
  "language_info": {
   "codemirror_mode": {
    "name": "ipython",
    "version": 3
   },
   "file_extension": ".py",
   "mimetype": "text/x-python",
   "name": "python",
   "nbconvert_exporter": "python",
   "pygments_lexer": "ipython3",
   "version": "3.6.4"
  }
 },
 "nbformat": 4,
 "nbformat_minor": 2
}
