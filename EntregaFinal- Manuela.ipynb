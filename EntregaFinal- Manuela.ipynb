{
 "cells": [
  {
   "cell_type": "markdown",
   "metadata": {},
   "source": [
    "# MANUELA CASTILLA RUSSO CORREA\n",
    "Para o meu projeto, foi escolhido os fatores:\n",
    "\n",
    "(1)Mulheres empregadas entre a idade de 15-24. \n",
    "\n",
    "(2)A relação de meninas para homens na educação (fundamental 1 e 2) para relacionar com o Índice de Desenvolvimento Human\n",
    "\n",
    "\n",
    "Com isso, foi feito a seguinte questão: \n",
    "\n",
    "#### A quantidade de mulheres que tiveram educação influência no número destas que têm emprego, influenciando assim o IDH do país?\n"
   ]
  },
  {
   "cell_type": "markdown",
   "metadata": {},
   "source": [
    "Para isso, mostrarei os passos para cada código feito e suas análises"
   ]
  },
  {
   "cell_type": "markdown",
   "metadata": {},
   "source": [
    "#### JUNTANDO AS TABELAS E O ANO A SER ESTUDADO: 2007"
   ]
  },
  {
   "cell_type": "code",
   "execution_count": 1,
   "metadata": {},
   "outputs": [],
   "source": [
    "#Primeiramente importamos para poder realizar o código\n",
    "%matplotlib inline\n",
    "import pandas as pd\n",
    "import numpy as np\n",
    "import math as math\n",
    "from scipy import stats\n",
    "import seaborn as sns\n",
    "import matplotlib.pyplot as plt"
   ]
  },
  {
   "cell_type": "code",
   "execution_count": null,
   "metadata": {},
   "outputs": [],
   "source": []
  }
 ],
 "metadata": {
  "kernelspec": {
   "display_name": "Python 3",
   "language": "python",
   "name": "python3"
  },
  "language_info": {
   "codemirror_mode": {
    "name": "ipython",
    "version": 3
   },
   "file_extension": ".py",
   "mimetype": "text/x-python",
   "name": "python",
   "nbconvert_exporter": "python",
   "pygments_lexer": "ipython3",
   "version": "3.6.4"
  }
 },
 "nbformat": 4,
 "nbformat_minor": 2
}
