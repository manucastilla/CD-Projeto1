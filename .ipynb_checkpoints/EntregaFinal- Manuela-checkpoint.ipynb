{
 "cells": [
  {
   "cell_type": "markdown",
   "metadata": {},
   "source": [
    "# MANUELA CASTILLA RUSSO CORREA\n",
    "Para o meu projeto, foi escolhido os fatores:\n",
    "\n",
    "(1)Mulheres empregadas entre a idade de 15-24. \n",
    "\n",
    "(2)A relação de meninas para homens na educação (fundamental 1 e 2) para relacionar com o Índice de Desenvolvimento Human\n",
    "\n",
    "\n",
    "Com isso, foi feito a seguinte questão: \n",
    "\n",
    "#### A quantidade de mulheres que tiveram educação influência no número destas que têm emprego, influenciando assim o IDH do país?\n"
   ]
  },
  {
   "cell_type": "markdown",
   "metadata": {},
   "source": [
    "Para isso, mostrarei os passos para cada código feito e suas análises"
   ]
  },
  {
   "cell_type": "markdown",
   "metadata": {},
   "source": [
    "#### JUNTANDO AS TABELAS E O ANO A SER ESTUDADO: 2007"
   ]
  },
  {
   "cell_type": "code",
   "execution_count": 1,
   "metadata": {},
   "outputs": [],
   "source": [
    "#Primeiramente importamos para poder realizar o código\n",
    "%matplotlib inline\n",
    "import pandas as pd\n",
    "import numpy as np\n",
    "import math as math\n",
    "from scipy import stats\n",
    "import seaborn as sns\n",
    "import matplotlib.pyplot as plt"
   ]
  },
  {
   "cell_type": "code",
   "execution_count": 2,
   "metadata": {},
   "outputs": [],
   "source": [
    "#baixando todos os excels\n",
    "idh = pd.read_excel('hdi_human_development_index.xlsx')\n",
    "gender_edu = pd.read_excel(\"ratio_of_girls_to_boys_in_primary_and_secondary_education_perc.xlsx\")\n",
    "employment = pd.read_excel(\"females_aged_15_24_employment_rate_percent.xlsx\")"
   ]
  },
  {
   "cell_type": "code",
   "execution_count": 3,
   "metadata": {},
   "outputs": [],
   "source": [
    "#pegando as partes que você quer\n",
    "idh_07 = idh.loc[:,[\"geo\",2007]]\n",
    "gender_edu_07 = gender_edu.loc[:,[\"geo\",2007]]\n",
    "employment_07 = employment.loc[:,[\"geo\",2007]]"
   ]
  },
  {
   "cell_type": "code",
   "execution_count": 4,
   "metadata": {},
   "outputs": [],
   "source": [
    "#ajustando o index\n",
    "idh_idx = idh_07.set_index(\"geo\")\n",
    "gender_edu_idx = gender_edu_07.set_index(\"geo\")\n",
    "employment_idx = employment_07.set_index(\"geo\")"
   ]
  },
  {
   "cell_type": "code",
   "execution_count": 8,
   "metadata": {},
   "outputs": [],
   "source": [
    "#join 1.0\n",
    "idh_gender = idh_idx.join(gender_edu_idx, how=\"inner\", lsuffix=\"_idh\", rsuffix=\"_gender\")"
   ]
  },
  {
   "cell_type": "code",
   "execution_count": 9,
   "metadata": {},
   "outputs": [],
   "source": [
    "#join 2.0\n",
    "data = idh_gender.join(employment_idx, how=\"inner\", lsuffix=\"_idh\", rsuffix=\"_WomanEmployment\")"
   ]
  },
  {
   "cell_type": "code",
   "execution_count": 10,
   "metadata": {},
   "outputs": [
    {
     "data": {
      "text/html": [
       "<div>\n",
       "<style scoped>\n",
       "    .dataframe tbody tr th:only-of-type {\n",
       "        vertical-align: middle;\n",
       "    }\n",
       "\n",
       "    .dataframe tbody tr th {\n",
       "        vertical-align: top;\n",
       "    }\n",
       "\n",
       "    .dataframe thead th {\n",
       "        text-align: right;\n",
       "    }\n",
       "</style>\n",
       "<table border=\"1\" class=\"dataframe\">\n",
       "  <thead>\n",
       "    <tr style=\"text-align: right;\">\n",
       "      <th></th>\n",
       "      <th>2007_idh</th>\n",
       "      <th>2007_gender</th>\n",
       "      <th>2007</th>\n",
       "    </tr>\n",
       "    <tr>\n",
       "      <th>geo</th>\n",
       "      <th></th>\n",
       "      <th></th>\n",
       "      <th></th>\n",
       "    </tr>\n",
       "  </thead>\n",
       "  <tbody>\n",
       "    <tr>\n",
       "      <th>Afghanistan</th>\n",
       "      <td>0.433</td>\n",
       "      <td>0.570</td>\n",
       "      <td>28.5</td>\n",
       "    </tr>\n",
       "    <tr>\n",
       "      <th>Albania</th>\n",
       "      <td>0.713</td>\n",
       "      <td>0.982</td>\n",
       "      <td>31.0</td>\n",
       "    </tr>\n",
       "  </tbody>\n",
       "</table>\n",
       "</div>"
      ],
      "text/plain": [
       "             2007_idh  2007_gender  2007\n",
       "geo                                     \n",
       "Afghanistan     0.433        0.570  28.5\n",
       "Albania         0.713        0.982  31.0"
      ]
     },
     "execution_count": 10,
     "metadata": {},
     "output_type": "execute_result"
    }
   ],
   "source": [
    "data.head(2)"
   ]
  },
  {
   "cell_type": "code",
   "execution_count": null,
   "metadata": {},
   "outputs": [],
   "source": []
  }
 ],
 "metadata": {
  "kernelspec": {
   "display_name": "Python 3",
   "language": "python",
   "name": "python3"
  },
  "language_info": {
   "codemirror_mode": {
    "name": "ipython",
    "version": 3
   },
   "file_extension": ".py",
   "mimetype": "text/x-python",
   "name": "python",
   "nbconvert_exporter": "python",
   "pygments_lexer": "ipython3",
   "version": "3.6.4"
  }
 },
 "nbformat": 4,
 "nbformat_minor": 2
}
